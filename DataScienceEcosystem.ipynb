{
  "cells": [
    {
      "cell_type": "markdown",
      "metadata": {
        "id": "nAvj6akRW8lr"
      },
      "source": [
        "# Data Science Tools and Ecosystem"
      ]
    },
    {
      "cell_type": "markdown",
      "source": [
        "In this notebook, Data Science Tools and Ecosystem are summarized.\n"
      ],
      "metadata": {
        "id": "dLvlToYTXQ7o"
      }
    },
    {
      "cell_type": "markdown",
      "source": [
        "Some of the popular languages that Data Scientists use are:\n",
        "\n",
        "1. Python\n",
        "\n",
        "2. R\n",
        "\n",
        "3. SQL\n",
        "\n",
        "4. Julia\n",
        "\n",
        "5. Java"
      ],
      "metadata": {
        "id": "fNPYLdYLXb7L"
      }
    },
    {
      "cell_type": "markdown",
      "source": [
        "Some of the commonly used libraries used by Data Scientists include:\n",
        "\n",
        "1. Numpy\n",
        "\n",
        "2. Pandas\n",
        "\n",
        "3. scikit-learn\n",
        "\n",
        "4. TensorFlow\n",
        "\n",
        "5. ggplot2\n",
        "\n",
        "6. Plotly"
      ],
      "metadata": {
        "id": "nfpLLlLlYAAt"
      }
    },
    {
      "cell_type": "markdown",
      "source": [
        "| Data Science Tools   |\n",
        "|----------------------|\n",
        "| Python               |\n",
        "| R                    |\n",
        "| Jupyter Notebook     |\n",
        "| Tableau              |\n",
        "| Apache Spark         |\n",
        "\n"
      ],
      "metadata": {
        "id": "dQ_VWrdtZDMd"
      }
    },
    {
      "cell_type": "markdown",
      "source": [
        "### Below are a few examples of evaluating arithmetic expressions in Python.\n",
        "\n",
        "1. **Addition**\n",
        "   - Adding two numbers: `5 + 3` results in `8`.\n",
        "\n",
        "2. **Subtraction**\n",
        "   - Subtracting one number from another: `5 - 3` results in `2`.\n",
        "\n",
        "3. **Multiplication**\n",
        "   - Multiplying two numbers: `5 * 3` results in `15`.\n",
        "\n",
        "4. **Division**\n",
        "   - Dividing one number by another: `5 / 3` results in approximately `1.6667`.\n",
        "\n",
        "5. **Exponentiation**\n",
        "   - Raising one number to the power of another: `5 ** 3` results in `125`.\n",
        "\n",
        "6. **Modulus**\n",
        "   - Finding the remainder of one number divided by another: `5 % 3` results in `2`.\n",
        "\n"
      ],
      "metadata": {
        "id": "dncIegljaKDj"
      }
    },
    {
      "cell_type": "code",
      "source": [
        "#This a simple arithmetic expression to mutiply then add integers\n",
        "A = (3*4) + 5\n",
        "print(A)"
      ],
      "metadata": {
        "colab": {
          "base_uri": "https://localhost:8080/"
        },
        "id": "h3-jjGdxarGc",
        "outputId": "31d4a4ac-902f-437f-bf59-492053bbfab4"
      },
      "execution_count": 3,
      "outputs": [
        {
          "output_type": "stream",
          "name": "stdout",
          "text": [
            "17\n"
          ]
        }
      ]
    },
    {
      "cell_type": "code",
      "source": [
        "#This will convert 200 minutes to hours by diving by 60.\n",
        "minutes = 200\n",
        "hours = 200 / 60\n",
        "hours"
      ],
      "metadata": {
        "colab": {
          "base_uri": "https://localhost:8080/"
        },
        "id": "7E7APCEPbOjt",
        "outputId": "ac8fcdb1-1b0d-466b-a03a-b7728d7dd987"
      },
      "execution_count": 4,
      "outputs": [
        {
          "output_type": "execute_result",
          "data": {
            "text/plain": [
              "3.3333333333333335"
            ]
          },
          "metadata": {},
          "execution_count": 4
        }
      ]
    },
    {
      "cell_type": "markdown",
      "source": [
        "**Objectives:**\n",
        "\n",
        "- List popular languages used in Data Science, such as Python and R.\n",
        "- Identify commonly used libraries in Data Science like Pandas, ggplot2, and scikit-learn.\n",
        "- Describe various Data Science tools including Jupyter Notebook, Tableau, and Apache Spark.\n",
        "- Demonstrate knowledge of different Markdown features and their applications in documenting Data Science projects.\n",
        "- Gain proficiency in evaluating arithmetic expressions in Python.\n",
        "- Demonstrate the ability to structure a Jupyter Notebook for effective data analysis presentation."
      ],
      "metadata": {
        "id": "Vze5vVWfcHyT"
      }
    },
    {
      "cell_type": "markdown",
      "source": [
        "##Author\n",
        "Martin Kruchinski"
      ],
      "metadata": {
        "id": "KuwRLRl1ciA9"
      }
    }
  ],
  "metadata": {
    "language_info": {
      "name": "python"
    },
    "colab": {
      "provenance": [],
      "cell_execution_strategy": "setup"
    },
    "kernelspec": {
      "name": "python3",
      "display_name": "Python 3"
    }
  },
  "nbformat": 4,
  "nbformat_minor": 0
}